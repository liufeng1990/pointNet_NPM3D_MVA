{
 "cells": [
  {
   "cell_type": "code",
   "execution_count": 12,
   "metadata": {},
   "outputs": [
    {
     "name": "stdout",
     "output_type": "stream",
     "text": [
      "The autoreload extension is already loaded. To reload it, use:\n",
      "  %reload_ext autoreload\n"
     ]
    }
   ],
   "source": [
    "%load_ext autoreload\n",
    "%autoreload 2\n",
    "import os\n",
    "import numpy as np\n",
    "import matplotlib.pyplot as plt\n",
    "from keras_tqdm import TQDMNotebookCallback\n",
    "from npm3dGenerator_tree import NPM3DGenerator, NPM3DGenerator_full\n",
    "from models import build_point_net, save_model, load_model\n",
    "import utils_training as u_t"
   ]
  },
  {
   "cell_type": "code",
   "execution_count": 13,
   "metadata": {
    "scrolled": false
   },
   "outputs": [
    {
     "data": {
      "application/vnd.jupyter.widget-view+json": {
       "model_id": "bd32cede54704873aac901c43e92504f",
       "version_major": 2,
       "version_minor": 0
      },
      "text/plain": [
       "HBox(children=(IntProgress(value=0, max=3), HTML(value='')))"
      ]
     },
     "metadata": {},
     "output_type": "display_data"
    },
    {
     "name": "stdout",
     "output_type": "stream",
     "text": [
      "MODIFIYING PATHS ../Benchmark_MVA/training\\MiniLille1.ply\n",
      "LOADING NORMALS ../Benchmark_MVA/training\\MiniLille1_normals.npy\n",
      "MODIFIYING PATHS ../Benchmark_MVA/training\\MiniLille2.ply\n",
      "LOADING NORMALS ../Benchmark_MVA/training\\MiniLille2_normals.npy\n",
      "MODIFIYING PATHS ../Benchmark_MVA/training\\MiniParis1.ply\n",
      "LOADING NORMALS ../Benchmark_MVA/training\\MiniParis1_normals.npy\n",
      "\n"
     ]
    },
    {
     "data": {
      "application/vnd.jupyter.widget-view+json": {
       "model_id": "33bacfbf8329453eb75385eaeefba840",
       "version_major": 2,
       "version_minor": 0
      },
      "text/plain": [
       "HBox(children=(IntProgress(value=0, max=1), HTML(value='')))"
      ]
     },
     "metadata": {},
     "output_type": "display_data"
    },
    {
     "name": "stdout",
     "output_type": "stream",
     "text": [
      "MODIFIYING PATHS ../Benchmark_MVA/training\\MiniLille1.ply\n",
      "LOADING NORMALS ../Benchmark_MVA/training\\MiniLille1_normals.npy\n",
      "\n",
      "NPM3DGenerator config\n",
      "n_classes         : 6\n",
      "batch_size        : 8\n",
      "n_points          : 4096\n",
      "n_channels        : 8\n",
      "train             : True\n",
      "use_normals       : True\n",
      "normal_radius     : 0.75\n",
      "compute_normals   : True\n",
      "class_weight      : [2.81 2.91 197.21 264.28 32.82 4.70]\n"
     ]
    }
   ],
   "source": [
    "training_dataset = NPM3DGenerator(paths_to_keep = [0, 1, 2], sample_uniformly_from_classes = True)\n",
    "validation_dataset = NPM3DGenerator(paths_to_keep = [0], sample_uniformly_from_classes = True)\n",
    "print(training_dataset)"
   ]
  },
  {
   "cell_type": "code",
   "execution_count": 14,
   "metadata": {
    "scrolled": true
   },
   "outputs": [
    {
     "name": "stdout",
     "output_type": "stream",
     "text": [
      "Loaded model from disk\n"
     ]
    }
   ],
   "source": [
    "miou_metric = u_t.mIoU(training_dataset.n_classes)\n",
    "\n",
    "#model = build_point_net(input_shape = (training_dataset.n_points, training_dataset.n_channels), output_shape = training_dataset.n_classes)\n",
    "model = load_model(\"models/trained_{}_{}_{}\".format(training_dataset.n_points, training_dataset.n_channels, training_dataset.n_classes))\n",
    "model.compile(\"adam\", u_t.my_categorical_crossentropy, metrics = [\"accuracy\", miou_metric.miou])\n",
    "#model.summary()"
   ]
  },
  {
   "cell_type": "code",
   "execution_count": null,
   "metadata": {
    "scrolled": false
   },
   "outputs": [
    {
     "data": {
      "application/vnd.jupyter.widget-view+json": {
       "model_id": "66d037b1a875454e82109669253309cf",
       "version_major": 2,
       "version_minor": 0
      },
      "text/plain": [
       "HBox(children=(IntProgress(value=0, description='Training', max=2, style=ProgressStyle(description_width='init…"
      ]
     },
     "metadata": {},
     "output_type": "display_data"
    },
    {
     "data": {
      "application/vnd.jupyter.widget-view+json": {
       "model_id": "6c93de88e28b4ca5a854d7c5690c4aa9",
       "version_major": 2,
       "version_minor": 0
      },
      "text/plain": [
       "HBox(children=(IntProgress(value=0, description='Epoch 0', max=261, style=ProgressStyle(description_width='ini…"
      ]
     },
     "metadata": {},
     "output_type": "display_data"
    }
   ],
   "source": [
    "n_epochs = 2\n",
    "history = model.fit_generator(training_dataset, epochs = n_epochs,\n",
    "                              validation_data = validation_dataset,\n",
    "                              class_weight = training_dataset.class_weight,\n",
    "                              verbose = 0, callbacks=[TQDMNotebookCallback(leave_inner=True, leave_outer=True)])\n",
    "u_t.plot_history(history)"
   ]
  },
  {
   "cell_type": "code",
   "execution_count": null,
   "metadata": {},
   "outputs": [],
   "source": [
    "save_model(model, \"models/trained_{}_{}_{}_2x10epochs_plus_6epochs_uniform_sample_fixingbug\".format(training_dataset.n_points, training_dataset.n_channels, training_dataset.n_classes))"
   ]
  },
  {
   "cell_type": "code",
   "execution_count": null,
   "metadata": {
    "scrolled": false
   },
   "outputs": [],
   "source": [
    "test_dataset = NPM3DGenerator(input_dir = \"../Benchmark_MVA/test\", train = False)\n",
    "#model = load_model(\"models/trained_{}_{}_{}\".format(test_dataset.n_points, test_dataset.n_channels, test_dataset.n_classes))\n",
    "probas, predictions = test_dataset.predict_point_cloud(model)\n",
    "\n",
    "plt.hist(predictions)\n",
    "plt.show()"
   ]
  },
  {
   "cell_type": "code",
   "execution_count": null,
   "metadata": {},
   "outputs": [],
   "source": [
    "np.savetxt('MiniDijon9.txt', predictions, fmt='%d')"
   ]
  },
  {
   "cell_type": "code",
   "execution_count": null,
   "metadata": {},
   "outputs": [],
   "source": [
    "plt.figure(figsize = (15, 7))\n",
    "for i in range(test_dataset.n_classes):\n",
    "    plt.subplot(231 + i)\n",
    "    plt.title(test_dataset.class_dict[i + 1])\n",
    "    plt.hist(np.max(probas[predictions == 1 + i], axis = -1), normed = True)\n",
    "plt.show()"
   ]
  },
  {
   "cell_type": "code",
   "execution_count": null,
   "metadata": {},
   "outputs": [],
   "source": []
  }
 ],
 "metadata": {
  "kernelspec": {
   "display_name": "Python 3",
   "language": "python",
   "name": "python3"
  },
  "language_info": {
   "codemirror_mode": {
    "name": "ipython",
    "version": 3
   },
   "file_extension": ".py",
   "mimetype": "text/x-python",
   "name": "python",
   "nbconvert_exporter": "python",
   "pygments_lexer": "ipython3",
   "version": "3.6.7"
  }
 },
 "nbformat": 4,
 "nbformat_minor": 2
}
