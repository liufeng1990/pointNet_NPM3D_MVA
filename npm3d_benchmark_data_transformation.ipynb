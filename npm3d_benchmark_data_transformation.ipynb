{
 "cells": [
  {
   "cell_type": "code",
   "execution_count": 1,
   "metadata": {},
   "outputs": [],
   "source": [
    "%load_ext autoreload\n",
    "%autoreload 2\n",
    "import os\n",
    "import sys\n",
    "sys.path.append(\"code\")\n",
    "import numpy as np\n",
    "import matplotlib.pyplot as plt\n",
    "from tqdm import tqdm_notebook\n",
    "from sklearn.neighbors import KDTree\n",
    "from plyfile import PlyData, PlyElement\n",
    "from ply import write_ply\n",
    "import collections"
   ]
  },
  {
   "cell_type": "code",
   "execution_count": 2,
   "metadata": {
    "scrolled": false
   },
   "outputs": [
    {
     "name": "stdout",
     "output_type": "stream",
     "text": [
      "ajaccio_2.ply\n"
     ]
    },
    {
     "data": {
      "application/vnd.jupyter.widget-view+json": {
       "model_id": "995e87bb280740f39cf04cc2761ede2b",
       "version_major": 2,
       "version_minor": 0
      },
      "text/plain": [
       "HBox(children=(IntProgress(value=1, bar_style='info', max=1), HTML(value='')))"
      ]
     },
     "metadata": {},
     "output_type": "display_data"
    },
    {
     "name": "stdout",
     "output_type": "stream",
     "text": [
      "\n"
     ]
    },
    {
     "data": {
      "application/vnd.jupyter.widget-view+json": {
       "model_id": "747bb8be9bf34af497f4b1ce0fb166d6",
       "version_major": 2,
       "version_minor": 0
      },
      "text/plain": [
       "HBox(children=(IntProgress(value=0, max=3662577), HTML(value='')))"
      ]
     },
     "metadata": {},
     "output_type": "display_data"
    },
    {
     "name": "stdout",
     "output_type": "stream",
     "text": [
      "\n",
      "ajaccio_57.ply\n"
     ]
    },
    {
     "data": {
      "application/vnd.jupyter.widget-view+json": {
       "model_id": "e9e51816400a4604b808c3127873d51b",
       "version_major": 2,
       "version_minor": 0
      },
      "text/plain": [
       "HBox(children=(IntProgress(value=1, bar_style='info', max=1), HTML(value='')))"
      ]
     },
     "metadata": {},
     "output_type": "display_data"
    },
    {
     "name": "stdout",
     "output_type": "stream",
     "text": [
      "\n"
     ]
    },
    {
     "data": {
      "application/vnd.jupyter.widget-view+json": {
       "model_id": "734816d8e9b3490ea566e75fe6eda5b5",
       "version_major": 2,
       "version_minor": 0
      },
      "text/plain": [
       "HBox(children=(IntProgress(value=0, max=3222663), HTML(value='')))"
      ]
     },
     "metadata": {},
     "output_type": "display_data"
    },
    {
     "name": "stdout",
     "output_type": "stream",
     "text": [
      "\n",
      "dijon_9.ply\n"
     ]
    },
    {
     "data": {
      "application/vnd.jupyter.widget-view+json": {
       "model_id": "f06da1db3e1d41ecb9957b9cd858c80c",
       "version_major": 2,
       "version_minor": 0
      },
      "text/plain": [
       "HBox(children=(IntProgress(value=1, bar_style='info', max=1), HTML(value='')))"
      ]
     },
     "metadata": {},
     "output_type": "display_data"
    },
    {
     "name": "stdout",
     "output_type": "stream",
     "text": [
      "\n"
     ]
    },
    {
     "data": {
      "application/vnd.jupyter.widget-view+json": {
       "model_id": "0a3c9f6fe45848ed8bacdf4c37089328",
       "version_major": 2,
       "version_minor": 0
      },
      "text/plain": [
       "HBox(children=(IntProgress(value=0, max=3079157), HTML(value='')))"
      ]
     },
     "metadata": {},
     "output_type": "display_data"
    },
    {
     "name": "stdout",
     "output_type": "stream",
     "text": [
      "\n"
     ]
    }
   ],
   "source": [
    "def compute_voxel_dico(points, voxel_size):\n",
    "    \n",
    "    voxel_indices = (points / voxel_size).astype(int)\n",
    "    dico = dict()\n",
    "    for vox in np.unique(voxel_indices, axis = 0):\n",
    "        dico[tuple(vox)] = []\n",
    "    for i, vox in tqdm_notebook(enumerate(voxel_indices)):\n",
    "        dico[tuple(vox)] += [i]\n",
    "        \n",
    "    return dico\n",
    "\n",
    "def get_cov(points):\n",
    "    mean = np.mean(points, axis = 0)\n",
    "    return (points - mean).transpose().dot((points - mean)) / points.shape[0]\n",
    "\n",
    "input_dir = \"../Benchmark/test_10_classes\"\n",
    "output_dir = input_dir + \"_subsampled_2\"\n",
    "columns = [\"x\", \"y\", \"z\", \"reflectance\"]\n",
    "voxel_size = .05\n",
    "\n",
    "for path in os.listdir(input_dir):\n",
    "    if(path[-4:] == \".ply\"):\n",
    "        \n",
    "        \n",
    "        old_cloud_path = os.path.join(input_dir, path)\n",
    "        new_cloud_path = os.path.join(output_dir, path)\n",
    "        print(path)\n",
    "        \n",
    "        data = PlyData.read(old_cloud_path)\n",
    "        data = np.array([data.elements[0].data[i] for i in columns[:len(data.elements[0].properties)]]).transpose()\n",
    "        if(columns[-1] == \"class\"):\n",
    "            cloud, labels = data[:, :4], data[:, -1]\n",
    "        else:\n",
    "            cloud = data[:, :4]\n",
    "        del data\n",
    "        \n",
    "        \"\"\"\n",
    "        #print(\"COMPUTING TREE\")\n",
    "        #tree = KDTree(cloud[:, :3], metric = \"euclidean\")\n",
    "        #print(\"DONE\")\n",
    "        \n",
    "        for i in range(3):\n",
    "            plt.hist(cloud[:, i])\n",
    "            plt.title(np.max(cloud[:, i]) - np.min(cloud[:, i]))\n",
    "            plt.show()\n",
    "        \"\"\"\n",
    "        \n",
    "        \n",
    "        dico = compute_voxel_dico(cloud[:, :3], voxel_size)\n",
    "        subsampled_cloud = np.array([np.mean(cloud[vox[1]], axis = 0) for vox in tqdm_notebook(dico.items())])\n",
    "        \n",
    "        if(columns[-1] == \"class\"):\n",
    "            subsampled_labels = np.array([collections.Counter(labels[vox[1]]).most_common()[0][0] for vox in tqdm_notebook(dico.items())])\n",
    "            write_ply(new_cloud_path, [subsampled_cloud, subsampled_labels], columns)\n",
    "        else:\n",
    "            write_ply(new_cloud_path, [subsampled_cloud], columns)\n",
    "          \n",
    "        \n",
    "        \"\"\"\n",
    "        eigen_values, eigen_vectors = np.linalg.eigh(get_cov(cloud[:, :2]))\n",
    "        direction = eigen_vectors[:, np.argmax(eigen_values)]\n",
    "        center = np.mean(cloud[:, :2], axis = 0)\n",
    "        \n",
    "        print(np.max(cloud, axis = 0) - np.min(cloud, axis = 0), center, direction)\n",
    "        split = np.sum((cloud[:, :2] - center) * direction, axis = -1) > 0\n",
    "        \n",
    "        if(columns[-1] == \"class\"):\n",
    "            print(new_cloud_path[:-4] + \"_0.ply\")\n",
    "            write_ply(new_cloud_path[:-4] + \"_0.ply\", [cloud[split], labels[split]], columns)\n",
    "            write_ply(new_cloud_path[:-4] + \"_1.ply\", [cloud[~split], labels[~split]], columns)\n",
    "        else:\n",
    "            write_ply(new_cloud_path[:-4] + \"_0.ply\", [cloud[split]], columns)\n",
    "            write_ply(new_cloud_path[:-4] + \"_1.ply\", [cloud[~split]], columns)\n",
    "        \"\"\""
   ]
  },
  {
   "cell_type": "code",
   "execution_count": null,
   "metadata": {},
   "outputs": [],
   "source": []
  }
 ],
 "metadata": {
  "kernelspec": {
   "display_name": "Python 3",
   "language": "python",
   "name": "python3"
  },
  "language_info": {
   "codemirror_mode": {
    "name": "ipython",
    "version": 3
   },
   "file_extension": ".py",
   "mimetype": "text/x-python",
   "name": "python",
   "nbconvert_exporter": "python",
   "pygments_lexer": "ipython3",
   "version": "3.6.7"
  }
 },
 "nbformat": 4,
 "nbformat_minor": 2
}
