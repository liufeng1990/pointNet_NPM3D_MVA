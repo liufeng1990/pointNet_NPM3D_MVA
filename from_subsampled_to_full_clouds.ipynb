{
 "cells": [
  {
   "cell_type": "code",
   "execution_count": 3,
   "metadata": {},
   "outputs": [],
   "source": [
    "import sys\n",
    "sys.path.append(\"code\")\n",
    "\n",
    "import numpy as np\n",
    "from plyfile import PlyData, PlyElement\n",
    "from sklearn.neighbors import KNeighborsClassifier\n",
    "from ply import write_ply\n",
    "import matplotlib.pyplot as plt"
   ]
  },
  {
   "cell_type": "code",
   "execution_count": null,
   "metadata": {},
   "outputs": [
    {
     "data": {
      "image/png": "[encoded data removed]",
      "text/plain": [
       "<Figure size 432x288 with 1 Axes>"
      ]
     },
     "metadata": {
      "needs_background": "light"
     },
     "output_type": "display_data"
    }
   ],
   "source": [
    "def extend_prediction(input_dir, input_pred, output_path, n_neighbors = 10):\n",
    "    pred = PlyData.read(input_pred)\n",
    "    columns = [\"x\", \"y\", \"z\", \"class\"]\n",
    "    pred = np.array([pred.elements[0].data[i] for i in columns[:len(pred.elements[0].properties)]]).transpose()\n",
    "    \n",
    "    to_pred = PlyData.read(input_dir)\n",
    "    columns = [\"x\", \"y\", \"z\"]\n",
    "    to_pred = np.array([to_pred.elements[0].data[i] for i in columns[:len(to_pred.elements[0].properties)]]).transpose()\n",
    "    \n",
    "    clf = KNeighborsClassifier(n_neighbors)\n",
    "    clf.fit(pred[:, :3], pred[:, -1])\n",
    "    \n",
    "    prediction = clf.predict(to_pred)\n",
    "    \n",
    "    plt.hist(prediction)\n",
    "    plt.show()\n",
    "    \n",
    "    write_ply(output_path[:-4] + \".ply\",\n",
    "              [to_pred, prediction],\n",
    "              ['x', 'y', 'z', 'class'])\n",
    "    np.savetxt(output_path, prediction, fmt='%d')\n",
    "    \n",
    "    return\n",
    "\n",
    "#for fn in [\"ajaccio_2\", \"ajaccio_57\", \"dijon_9\"]:\n",
    "for fn in [\"dijon_9\"]:\n",
    "    extend_prediction(\"../Benchmark/test_10_classes/{}.ply\".format(fn), \"{}_prediction.ply\".format(fn), \"{}.txt\".format(fn))"
   ]
  },
  {
   "cell_type": "code",
   "execution_count": null,
   "metadata": {},
   "outputs": [],
   "source": []
  },
  {
   "cell_type": "code",
   "execution_count": null,
   "metadata": {},
   "outputs": [],
   "source": []
  }
 ],
 "metadata": {
  "kernelspec": {
   "display_name": "Python 3",
   "language": "python",
   "name": "python3"
  },
  "language_info": {
   "codemirror_mode": {
    "name": "ipython",
    "version": 3
   },
   "file_extension": ".py",
   "mimetype": "text/x-python",
   "name": "python",
   "nbconvert_exporter": "python",
   "pygments_lexer": "ipython3",
   "version": "3.6.7"
  }
 },
 "nbformat": 4,
 "nbformat_minor": 2
}
