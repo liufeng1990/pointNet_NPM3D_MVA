{
 "cells": [
  {
   "cell_type": "code",
   "execution_count": 1,
   "metadata": {},
   "outputs": [
    {
     "name": "stderr",
     "output_type": "stream",
     "text": [
      "Using TensorFlow backend.\n"
     ]
    }
   ],
   "source": [
    "%load_ext autoreload\n",
    "%autoreload 2\n",
    "import os\n",
    "import sys\n",
    "sys.path.append(\"code\")\n",
    "import numpy as np\n",
    "import matplotlib.pyplot as plt\n",
    "from keras_tqdm import TQDMNotebookCallback\n",
    "from npm3dGenerator_tree import NPM3DGenerator, NPM3DGenerator_full\n",
    "from models import build_point_net, save_model, load_model\n",
    "import utils_training as u_t"
   ]
  },
  {
   "cell_type": "code",
   "execution_count": 2,
   "metadata": {
    "scrolled": false
   },
   "outputs": [
    {
     "data": {
      "application/vnd.jupyter.widget-view+json": {
       "model_id": "0a15f0f2b77b49afa9d718a733e65d0c",
       "version_major": 2,
       "version_minor": 0
      },
      "text/plain": [
       "HBox(children=(IntProgress(value=0, max=1), HTML(value='')))"
      ]
     },
     "metadata": {},
     "output_type": "display_data"
    },
    {
     "name": "stdout",
     "output_type": "stream",
     "text": [
      "MODIFIYING PATHS ../Benchmark_MVA/training\\MiniLille1.ply\n",
      "LOADING NORMALS ../Benchmark_MVA/training\\MiniLille1_normals.npy\n",
      "\n",
      "NPM3DGenerator config\n",
      "n_classes         : 6\n",
      "batch_size        : 8\n",
      "n_points          : 4096\n",
      "n_channels        : 8\n",
      "train             : True\n",
      "use_normals       : True\n",
      "normal_radius     : 0.75\n",
      "compute_normals   : True\n",
      "class_weight      : [2.48 2.20 343.79 10000.00 16.65 18.26]\n"
     ]
    }
   ],
   "source": [
    "dataset = NPM3DGenerator(paths_to_keep = [0], sample_uniformly_from_classes = True)\n",
    "print(dataset)"
   ]
  },
  {
   "cell_type": "code",
   "execution_count": 5,
   "metadata": {},
   "outputs": [
    {
     "name": "stdout",
     "output_type": "stream",
     "text": [
      "134543\n",
      "0.09275078773498535\n"
     ]
    },
    {
     "data": {
      "image/png": "[encoded data removed]",
      "text/plain": [
       "<Figure size 432x288 with 1 Axes>"
      ]
     },
     "metadata": {
      "needs_background": "light"
     },
     "output_type": "display_data"
    }
   ],
   "source": [
    "from sklearn.neighbors import KDTree\n",
    "import time\n",
    "\n",
    "pc = dataset.sample_point_cloud()\n",
    "t = time.time()\n",
    "d, i = KDTree(pc[0][:, :3]).query(pc[0][:, :3], k = 100)\n",
    "print(time.time() - t)\n",
    "plt.hist(np.log10(d[:, -1]), bins = 100)\n",
    "plt.title(np.mean(d[:, -1]))\n",
    "plt.show()"
   ]
  }
 ],
 "metadata": {
  "kernelspec": {
   "display_name": "Python 3",
   "language": "python",
   "name": "python3"
  },
  "language_info": {
   "codemirror_mode": {
    "name": "ipython",
    "version": 3
   },
   "file_extension": ".py",
   "mimetype": "text/x-python",
   "name": "python",
   "nbconvert_exporter": "python",
   "pygments_lexer": "ipython3",
   "version": "3.6.7"
  }
 },
 "nbformat": 4,
 "nbformat_minor": 2
}
