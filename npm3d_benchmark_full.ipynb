{
 "cells": [
  {
   "cell_type": "code",
   "execution_count": 1,
   "metadata": {},
   "outputs": [
    {
     "name": "stderr",
     "output_type": "stream",
     "text": [
      "Using TensorFlow backend.\n"
     ]
    }
   ],
   "source": [
    "%load_ext autoreload\n",
    "%autoreload 2\n",
    "import os\n",
    "import sys\n",
    "sys.path.append(\"code\")\n",
    "import numpy as np\n",
    "import matplotlib.pyplot as plt\n",
    "from keras_tqdm import TQDMNotebookCallback\n",
    "from npm3dGenerator_tree import NPM3DGenerator, NPM3DGenerator_full\n",
    "from models import build_point_net, save_model, load_model\n",
    "import utils_training as u_t"
   ]
  },
  {
   "cell_type": "code",
   "execution_count": null,
   "metadata": {
    "scrolled": true
   },
   "outputs": [
    {
     "data": {
      "application/vnd.jupyter.widget-view+json": {
       "model_id": "7590c47170754c3bba9c82705800944b",
       "version_major": 2,
       "version_minor": 0
      },
      "text/plain": [
       "HBox(children=(IntProgress(value=0, max=1), HTML(value='')))"
      ]
     },
     "metadata": {},
     "output_type": "display_data"
    },
    {
     "name": "stdout",
     "output_type": "stream",
     "text": [
      "../Benchmark/training_10_classes_subsampled_2\\Lille1_2_tree.joblib\n",
      "COMPUTING TREE\n",
      "DONE\n",
      "MODIFIYING PATHS ../Benchmark/training_10_classes_subsampled_2\\Lille1_2.ply\n",
      "COMPUTING NORMALS\n",
      "SPLITTING 57\n"
     ]
    },
    {
     "data": {
      "application/vnd.jupyter.widget-view+json": {
       "model_id": "aa795f34c7bd4101973b9bf718a6dae7",
       "version_major": 2,
       "version_minor": 0
      },
      "text/plain": [
       "HBox(children=(IntProgress(value=0, max=57), HTML(value='')))"
      ]
     },
     "metadata": {},
     "output_type": "display_data"
    }
   ],
   "source": [
    "training_dataset = NPM3DGenerator_full(paths_to_keep = [1], use_normals = True)"
   ]
  },
  {
   "cell_type": "code",
   "execution_count": null,
   "metadata": {},
   "outputs": [],
   "source": [
    "training_dataset.class_weight"
   ]
  },
  {
   "cell_type": "code",
   "execution_count": null,
   "metadata": {},
   "outputs": [],
   "source": [
    "miou_metric = u_t.mIoU(training_dataset.n_classes)\n",
    "\n",
    "model = build_point_net(input_shape = (training_dataset.n_points, training_dataset.n_channels),\n",
    "                        output_shape = training_dataset.n_classes)\n",
    "model.compile(\"adam\", u_t.my_categorical_crossentropy, metrics = [\"accuracy\", miou_metric.miou])\n",
    "#model.summary()"
   ]
  },
  {
   "cell_type": "code",
   "execution_count": null,
   "metadata": {
    "scrolled": false
   },
   "outputs": [],
   "source": [
    "n_epochs = 1\n",
    "history = model.fit_generator(training_dataset, epochs = n_epochs,\n",
    "                              validation_data = training_dataset,\n",
    "                              class_weight = training_dataset.class_weight,\n",
    "                              verbose = 0, callbacks=[TQDMNotebookCallback(leave_inner=True, leave_outer=True)])\n",
    "#save_model(model, \"trained_{}_{}_{}\".format(training_dataset.n_points, training_dataset.n_channels, training_dataset.n_classes))\n",
    "u_t.plot_history(history)"
   ]
  },
  {
   "cell_type": "code",
   "execution_count": null,
   "metadata": {
    "scrolled": false
   },
   "outputs": [],
   "source": [
    "test_dataset = NPM3DGenerator(input_dir = \"../Benchmark_MVA/test\", train = False)\n",
    "model = load_model(\"trained_{}_{}_{}\".format(test_dataset.n_points, test_dataset.n_channels, test_dataset.n_classes))\n",
    "predictions = test_dataset.predict_point_cloud(model)\n",
    "plt.hist(np.argmax(predictions, axis = -1))"
   ]
  },
  {
   "cell_type": "code",
   "execution_count": null,
   "metadata": {},
   "outputs": [],
   "source": []
  }
 ],
 "metadata": {
  "kernelspec": {
   "display_name": "Python 3",
   "language": "python",
   "name": "python3"
  },
  "language_info": {
   "codemirror_mode": {
    "name": "ipython",
    "version": 3
   },
   "file_extension": ".py",
   "mimetype": "text/x-python",
   "name": "python",
   "nbconvert_exporter": "python",
   "pygments_lexer": "ipython3",
   "version": "3.6.7"
  }
 },
 "nbformat": 4,
 "nbformat_minor": 2
}
