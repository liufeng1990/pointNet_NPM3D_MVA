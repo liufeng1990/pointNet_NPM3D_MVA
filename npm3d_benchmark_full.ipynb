{
 "cells": [
  {
   "cell_type": "code",
   "execution_count": 1,
   "metadata": {},
   "outputs": [
    {
     "name": "stderr",
     "output_type": "stream",
     "text": [
      "Using TensorFlow backend.\n"
     ]
    }
   ],
   "source": [
    "%load_ext autoreload\n",
    "%autoreload 2\n",
    "import os\n",
    "import sys\n",
    "sys.path.append(\"code\")\n",
    "import numpy as np\n",
    "import matplotlib.pyplot as plt\n",
    "from keras_tqdm import TQDMNotebookCallback\n",
    "from npm3dGenerator_tree import NPM3DGenerator, NPM3DGenerator_full\n",
    "from models import build_point_net, save_model, load_model\n",
    "import utils_training as u_t"
   ]
  },
  {
   "cell_type": "code",
   "execution_count": 2,
   "metadata": {
    "scrolled": true
   },
   "outputs": [
    {
     "data": {
      "application/vnd.jupyter.widget-view+json": {
       "model_id": "f2d8aaa261304dc3a7120cc8a70b1abc",
       "version_major": 2,
       "version_minor": 0
      },
      "text/plain": [
       "HBox(children=(IntProgress(value=0, max=3), HTML(value='')))"
      ]
     },
     "metadata": {},
     "output_type": "display_data"
    },
    {
     "name": "stdout",
     "output_type": "stream",
     "text": [
      "../Benchmark/training_10_classes_subsampled_2\\Lille1_2_tree.joblib\n",
      "LOADING TREE\n",
      "DONE\n",
      "MODIFIYING PATHS ../Benchmark/training_10_classes_subsampled_2\\Lille1_2.ply\n",
      "LOADING NORMALS ../Benchmark/training_10_classes_subsampled_2\\Lille1_2_normals.npy\n",
      "../Benchmark/training_10_classes_subsampled_2\\Lille2_tree.joblib\n",
      "LOADING TREE\n",
      "DONE\n",
      "MODIFIYING PATHS ../Benchmark/training_10_classes_subsampled_2\\Lille2.ply\n",
      "LOADING NORMALS ../Benchmark/training_10_classes_subsampled_2\\Lille2_normals.npy\n",
      "../Benchmark/training_10_classes_subsampled_2\\Paris_tree.joblib\n",
      "LOADING TREE\n",
      "DONE\n",
      "MODIFIYING PATHS ../Benchmark/training_10_classes_subsampled_2\\Paris.ply\n",
      "LOADING NORMALS ../Benchmark/training_10_classes_subsampled_2\\Paris_normals.npy\n",
      "\n"
     ]
    },
    {
     "data": {
      "application/vnd.jupyter.widget-view+json": {
       "model_id": "0905b198c0954d2d89561f0c8b09ebdb",
       "version_major": 2,
       "version_minor": 0
      },
      "text/plain": [
       "HBox(children=(IntProgress(value=0, max=1), HTML(value='')))"
      ]
     },
     "metadata": {},
     "output_type": "display_data"
    },
    {
     "name": "stdout",
     "output_type": "stream",
     "text": [
      "../Benchmark/training_10_classes_subsampled_2\\Lille1_1_tree.joblib\n",
      "LOADING TREE\n",
      "DONE\n",
      "MODIFIYING PATHS ../Benchmark/training_10_classes_subsampled_2\\Lille1_1.ply\n",
      "LOADING NORMALS ../Benchmark/training_10_classes_subsampled_2\\Lille1_1_normals.npy\n",
      "\n"
     ]
    }
   ],
   "source": [
    "training_dataset = NPM3DGenerator_full(paths_to_keep = [1, 2, 3], sample_uniformly_from_classes = True)\n",
    "validation_dataset = NPM3DGenerator_full(paths_to_keep = [0], sample_uniformly_from_classes = True, evaluation = True)"
   ]
  },
  {
   "cell_type": "code",
   "execution_count": 4,
   "metadata": {},
   "outputs": [
    {
     "name": "stdout",
     "output_type": "stream",
     "text": [
      "Loaded model from disk\n"
     ]
    }
   ],
   "source": [
    "miou_metric = u_t.mIoU(training_dataset.n_classes)\n",
    "\n",
    "#model = build_point_net(input_shape = (training_dataset.n_points, training_dataset.n_channels),\n",
    " #                       output_shape = training_dataset.n_classes)\n",
    "model = load_model(\"trained_1epochs_notuniform_{}_{}_{}\".format(training_dataset.n_points, training_dataset.n_channels, training_dataset.n_classes))\n",
    "model.compile(\"adam\", u_t.my_categorical_crossentropy, metrics = [\"accuracy\", miou_metric.miou])\n",
    "#model.summary()"
   ]
  },
  {
   "cell_type": "code",
   "execution_count": 5,
   "metadata": {
    "scrolled": false
   },
   "outputs": [
    {
     "data": {
      "application/vnd.jupyter.widget-view+json": {
       "model_id": "e8c1b938e5f943b2bb0f1f27a7b53e27",
       "version_major": 2,
       "version_minor": 0
      },
      "text/plain": [
       "HBox(children=(IntProgress(value=0, description='Training', max=1, style=ProgressStyle(description_width='init…"
      ]
     },
     "metadata": {},
     "output_type": "display_data"
    },
    {
     "data": {
      "application/vnd.jupyter.widget-view+json": {
       "model_id": "f9eda36f42614d58b6f17891f28d8cef",
       "version_major": 2,
       "version_minor": 0
      },
      "text/plain": [
       "HBox(children=(IntProgress(value=0, description='Epoch 0', max=1025, style=ProgressStyle(description_width='in…"
      ]
     },
     "metadata": {},
     "output_type": "display_data"
    },
    {
     "name": "stdout",
     "output_type": "stream",
     "text": [
      "\n"
     ]
    },
    {
     "data": {
      "image/png": "[encoded data removed]",
      "text/plain": [
       "<Figure size 1080x360 with 3 Axes>"
      ]
     },
     "metadata": {
      "needs_background": "light"
     },
     "output_type": "display_data"
    }
   ],
   "source": [
    "n_epochs = 1\n",
    "history = model.fit_generator(training_dataset, epochs = n_epochs,\n",
    "                              validation_data = validation_dataset,\n",
    "                              class_weight = training_dataset.class_weight,\n",
    "                              verbose = 0, callbacks=[TQDMNotebookCallback(leave_inner=True, leave_outer=True)])\n",
    "u_t.plot_history(history)"
   ]
  },
  {
   "cell_type": "code",
   "execution_count": 6,
   "metadata": {},
   "outputs": [
    {
     "name": "stdout",
     "output_type": "stream",
     "text": [
      "Saved model to disk\n"
     ]
    }
   ],
   "source": [
    "save_model(model, \"trained_{}epochs_uniform_{}_{}_{}\".format(n_epochs, training_dataset.n_points, training_dataset.n_channels, training_dataset.n_classes))"
   ]
  },
  {
   "cell_type": "code",
   "execution_count": null,
   "metadata": {},
   "outputs": [
    {
     "data": {
      "application/vnd.jupyter.widget-view+json": {
       "model_id": "0c1427fd0c8740b6bf10257371f96bf9",
       "version_major": 2,
       "version_minor": 0
      },
      "text/plain": [
       "HBox(children=(IntProgress(value=0, max=3), HTML(value='')))"
      ]
     },
     "metadata": {},
     "output_type": "display_data"
    },
    {
     "name": "stdout",
     "output_type": "stream",
     "text": [
      "../Benchmark/test_10_classes_subsampled_2\\ajaccio_2_tree.joblib\n",
      "LOADING TREE\n",
      "DONE\n",
      "MODIFIYING PATHS ../Benchmark/test_10_classes_subsampled_2\\ajaccio_2.ply\n",
      "LOADING NORMALS ../Benchmark/test_10_classes_subsampled_2\\ajaccio_2_normals.npy\n",
      "../Benchmark/test_10_classes_subsampled_2\\ajaccio_57_tree.joblib\n",
      "LOADING TREE\n",
      "DONE\n",
      "MODIFIYING PATHS ../Benchmark/test_10_classes_subsampled_2\\ajaccio_57.ply\n",
      "LOADING NORMALS ../Benchmark/test_10_classes_subsampled_2\\ajaccio_57_normals.npy\n",
      "../Benchmark/test_10_classes_subsampled_2\\dijon_9_tree.joblib\n",
      "LOADING TREE\n",
      "DONE\n",
      "MODIFIYING PATHS ../Benchmark/test_10_classes_subsampled_2\\dijon_9.ply\n",
      "LOADING NORMALS ../Benchmark/test_10_classes_subsampled_2\\dijon_9_normals.npy\n",
      "\n"
     ]
    },
    {
     "data": {
      "application/vnd.jupyter.widget-view+json": {
       "model_id": "daae9037f52943d5b8a4697cf4f000bf",
       "version_major": 2,
       "version_minor": 0
      },
      "text/plain": [
       "HBox(children=(IntProgress(value=0), HTML(value='')))"
      ]
     },
     "metadata": {},
     "output_type": "display_data"
    }
   ],
   "source": [
    "test_dataset = NPM3DGenerator_full(input_dir = \"../Benchmark/test_10_classes_subsampled_2\", train = False)\n",
    "probas, predictions = test_dataset.predict_point_cloud(model, index = 0)\n",
    "probas, predictions = test_dataset.predict_point_cloud(model, index = 1)\n",
    "probas, predictions = test_dataset.predict_point_cloud(model, index = 2)"
   ]
  },
  {
   "cell_type": "code",
   "execution_count": null,
   "metadata": {},
   "outputs": [],
   "source": []
  }
 ],
 "metadata": {
  "kernelspec": {
   "display_name": "Python 3",
   "language": "python",
   "name": "python3"
  },
  "language_info": {
   "codemirror_mode": {
    "name": "ipython",
    "version": 3
   },
   "file_extension": ".py",
   "mimetype": "text/x-python",
   "name": "python",
   "nbconvert_exporter": "python",
   "pygments_lexer": "ipython3",
   "version": "3.6.7"
  }
 },
 "nbformat": 4,
 "nbformat_minor": 2
}
